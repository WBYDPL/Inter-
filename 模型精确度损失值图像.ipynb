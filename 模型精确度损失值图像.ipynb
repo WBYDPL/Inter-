{
 "cells": [
  {
   "cell_type": "code",
   "execution_count": 1,
   "metadata": {},
   "outputs": [],
   "source": [
    "import torch\n",
    "import torch.nn as nn\n",
    "import torchvision\n",
    "import torchvision.transforms as transforms\n",
    "import torch\n",
    "import torch.nn as nn\n",
    "import torchvision\n",
    "from torchvision import transforms, datasets\n",
    "from torch.utils.data.dataset import *\n",
    "from PIL import Image\n",
    "from torch.nn import functional as F\n",
    "import random\n",
    "import os\n",
    "import sys"
   ]
  },
  {
   "cell_type": "code",
   "execution_count": 2,
   "metadata": {},
   "outputs": [],
   "source": [
    "# Device configuration\n",
    "device = torch.device('cuda' if torch.cuda.is_available() else 'cpu')"
   ]
  },
  {
   "cell_type": "code",
   "execution_count": 4,
   "metadata": {},
   "outputs": [
    {
     "name": "stdout",
     "output_type": "stream",
     "text": [
      "cpu\n"
     ]
    }
   ],
   "source": [
    "print(device)"
   ]
  },
  {
   "cell_type": "code",
   "execution_count": 7,
   "metadata": {},
   "outputs": [],
   "source": [
    "# Hyper-parameters \n",
    "# input_size = 784\n",
    "hidden_size = 500\n",
    "num_classes = 4\n",
    "num_epochs = 2\n",
    "batch_size = 64\n",
    "learning_rate = 0.001\n",
    "\n",
    "data_transform = transforms.Compose([\n",
    "        transforms.Resize((200,200)),\n",
    "#         transforms.RandomSizedCrop(180),\n",
    "        transforms.RandomResizedCrop(180, (0.8, 1)),\n",
    "\n",
    "        transforms.RandomHorizontalFlip(),\n",
    "        transforms.ToTensor(),\n",
    "        transforms.Normalize(mean=[0.485, 0.456, 0.406],\n",
    "                             std=[0.229, 0.224, 0.225])\n",
    "    ])\n",
    "train_dataset = datasets.ImageFolder(root='data/aaa/train',\n",
    "                                           transform=data_transform)\n",
    "\n",
    "test_dataset = datasets.ImageFolder(root='data/aaa/test',\n",
    "                                           transform=data_transform)\n",
    "# Data loader\n",
    "train_loader = torch.utils.data.DataLoader(dataset=train_dataset,\n",
    "                                           batch_size=batch_size,\n",
    "                                           shuffle=True)\n",
    "test_loader = torch.utils.data.DataLoader(dataset=test_dataset,\n",
    "                                          batch_size=batch_size,\n",
    "                                          shuffle=False)"
   ]
  },
  {
   "cell_type": "code",
   "execution_count": 8,
   "metadata": {},
   "outputs": [],
   "source": [
    "# # Fully connected neural network with one hidden layer\n",
    "# class NeuralNet_1(nn.Module):\n",
    "#     def __init__(self, input_size, hidden_size, num_classes):\n",
    "#         super(NeuralNet_1, self).__init__()\n",
    "#         self.fc1 = nn.Linear(input_size, 500)\n",
    "#         self.relu = nn.ReLU()\n",
    "#         self.fc2 = nn.Linear(500, num_classes)\n",
    "\n",
    "#     def forward(self, x):\n",
    "#         out = self.fc1(x)\n",
    "#         out = self.relu(out)#relu\n",
    "#         out = self.fc2(out)\n",
    "#         return out\n",
    "# Convolutional neural network (two convolutional layers)\n",
    "class ConvNet_1(nn.Module):\n",
    "    def __init__(self, num_classes=5):\n",
    "        super(ConvNet_1, self).__init__()\n",
    "        self.layer1 = nn.Sequential(\n",
    "            nn.Conv2d(3, 64, kernel_size=3, stride=1, padding=2),\n",
    "            nn.BatchNorm2d(64),\n",
    "            nn.ReLU(),\n",
    "            nn.MaxPool2d(kernel_size=2, stride=2))\n",
    "        self.layer2 = nn.Sequential(\n",
    "            nn.Conv2d(64, 128, kernel_size=3, stride=1, padding=2),\n",
    "            #nn.BatchNorm2d(32),\n",
    "            nn.ReLU(),\n",
    "            nn.MaxPool2d(kernel_size=2, stride=2))\n",
    "        self.layer3 = nn.Sequential(\n",
    "            nn.Conv2d(128, 128, kernel_size=3, stride=1, padding=2),\n",
    "            #nn.BatchNorm2d(32),\n",
    "            nn.ReLU(),\n",
    "            nn.MaxPool2d(kernel_size=2, stride=2))\n",
    "        self.layer4 = nn.Sequential(\n",
    "            nn.Conv2d(128, 128, kernel_size=3, stride=1, padding=2),\n",
    "            #nn.BatchNorm2d(32),\n",
    "            nn.ReLU(),\n",
    "            nn.MaxPool2d(kernel_size=2, stride=2))\n",
    "        self.layer5 = nn.Sequential(\n",
    "            nn.Conv2d(128, 128, kernel_size=3, stride=1, padding=2),\n",
    "            #nn.BatchNorm2d(32),\n",
    "            nn.ReLU(),\n",
    "            nn.MaxPool2d(kernel_size=2, stride=2))\n",
    "        self.fc1 = nn.Linear(6272, 200)\n",
    "        self.fc2 = nn.Linear(200, num_classes)\n",
    "\n",
    "    def forward(self, x):\n",
    "        out = self.layer1(x)\n",
    "        out = self.layer2(out)\n",
    "        out = self.layer3(out)\n",
    "        out = self.layer4(out)\n",
    "        out = self.layer5(out)\n",
    "        out = out.reshape(out.size(0), -1)\n",
    "        out = self.fc1(out)\n",
    "        out = self.fc2(out)\n",
    "        return out\n",
    "model = ConvNet_1(num_classes).to(device)\n",
    "optimizer = torch.optim.Adam(model.parameters(), lr=learning_rate)"
   ]
  },
  {
   "cell_type": "code",
   "execution_count": 12,
   "metadata": {},
   "outputs": [],
   "source": [
    "# --coding:utf-8--\n",
    " \n",
    "import torch\n",
    "import torch.nn as nn\n",
    "import torch.optim as optim\n",
    "from torch.optim import lr_scheduler\n",
    "import numpy as np\n",
    "import torchvision\n",
    "from torchvision import datasets, models, transforms\n",
    "import matplotlib.pyplot as plt\n",
    "import time\n",
    "import os\n",
    "import copy\n",
    "from tensorboardX import SummaryWriter\n",
    "model_ft = models.vgg16(pretrained=True)\n",
    "# 冻结卷积层\n",
    "for name, par in model_ft.named_parameters():\n",
    "    if 'features' in name:\n",
    "        par.requires_grad = False\n",
    "\n",
    "#修改几层\n",
    "model_ft.classifier[6] = nn.Linear(4096, 5)\n",
    "model_ft = model_ft.to(device)\n",
    "# Decay LR by a factor of 0.1 every 7 epochs\n",
    "optimizer_ft = optim.SGD(lr=learning_rate, params=filter(lambda p: p.requires_grad, model_ft.parameters()))"
   ]
  },
  {
   "cell_type": "code",
   "execution_count": 13,
   "metadata": {},
   "outputs": [],
   "source": [
    "model = torchvision.models.resnet18(pretrained=True)\n",
    "#print(model)\n",
    "\n",
    "#将卷积部分冻结\n",
    "for param in model.parameters():\n",
    "    #将卷积层部分的参数冻结\n",
    "    param.requires_grad = False\n",
    "\n",
    "#model.fc.会返回仅有一个的线性层\n",
    "#继承原有线性层的输入特征数\n",
    "in_f = model.fc.in_features\n",
    "#自己构造线性层并替换原来线性层\n",
    "model.fc = nn.Linear(in_f,5)\n",
    "#只需要优化最后的Linear层参数\n",
    "optimizer = torch.optim.Adam(model.fc.parameters(),lr=0.001)\n",
    "#对学习速率进行衰减\n",
    "exp_lr_schedule = lr_scheduler.StepLR(optimizer,step_size=5,gamma=0.1)\n",
    "epochs = 2\n",
    "loss_fn = nn.CrossEntropyLoss()\n",
    "model = model.to(device)\n",
    "\n",
    "def fit(epoch,model,trainloader,testloder):\n",
    "    #下面三个是个数不是概率\n",
    "    correct = 0\n",
    "    total = 0\n",
    "    running_loss = 0\n",
    "    #Dropput在训练的时候回随机丢弃神经元(的输出),但预测的时候不会\n",
    "    #model.train()是训练模式,想让Dropout发挥作用,对BN层也有用\n",
    "    model.train()\n",
    "    for x,y in trainloader:\n",
    "        #将训练数据也放到GPU上\n",
    "        x = x.to(device)\n",
    "        y = y.to(device)\n",
    "        y_pred = model(x)\n",
    "        loss = loss_fn(y_pred, y)\n",
    "        # 梯度置为0\n",
    "        optimizer.zero_grad()\n",
    "        # 反向传播求解梯度\n",
    "        loss.backward()\n",
    "        # 优化\n",
    "        optimizer.step()\n",
    "        # 不需要进行梯度计算\n",
    "        with torch.no_grad():\n",
    "            #torch.argmax将数字转换成真正的预测结果\n",
    "            y_pred = torch.argmax(y_pred, dim=1)\n",
    "            #计算个数\n",
    "            correct += (y_pred == y).sum().item()\n",
    "            total += y.size(0)\n",
    "            running_loss += loss.item()\n",
    "\n",
    "    #一旦exp_lr_schedule.step()运行了5次就调整学习速率\n",
    "    exp_lr_schedule.step()\n",
    "    #除以的是总样本数 trainloader.dataset是形参,实参是train_dl即train_dl.dataset\n",
    "    #train_dl.dataset指向的是train_ds\n",
    "    epoch_loss = running_loss/len(trainloader.dataset)\n",
    "    epoch_acc = correct/total\n"
   ]
  },
  {
   "cell_type": "code",
   "execution_count": 14,
   "metadata": {},
   "outputs": [],
   "source": [
    "model_1= ConvNet_1( num_classes).to(device)\n",
    "model_2= model_ft\n",
    "model_3= model\n",
    "# model_3= NeuralNet_3(input_size, hidden_size, num_classes).to(device)\n",
    "# model_4= NeuralNet_4(input_size, hidden_size, num_classes).to(device)"
   ]
  },
  {
   "cell_type": "code",
   "execution_count": null,
   "metadata": {},
   "outputs": [],
   "source": []
  },
  {
   "cell_type": "code",
   "execution_count": 15,
   "metadata": {},
   "outputs": [
    {
     "name": "stdout",
     "output_type": "stream",
     "text": [
      "Epoch [1/2], Step [100/147], loss: 0.5266616940498352\n",
      "Epoch [2/2], Step [100/147], loss: 0.3670238256454468\n",
      "Epoch [1/2], Step [100/147], loss: 0.36107081174850464\n",
      "Epoch [2/2], Step [100/147], loss: 0.2046668529510498\n",
      "Epoch [1/2], Step [100/147], loss: 0.3005894720554352\n",
      "Epoch [2/2], Step [100/147], loss: 0.1785304844379425\n"
     ]
    }
   ],
   "source": [
    "from sklearn.metrics import f1_score,precision_score,recall_score,accuracy_score\n",
    "import numpy as np\n",
    "def get_score(y_true, y_pred):\n",
    "\n",
    "        accuracy=accuracy_score(y_true, y_pred)\n",
    "        precision=precision_score(y_true, y_pred, average='macro')\n",
    "        recall=recall_score(y_true, y_pred, average='macro')\n",
    "        f1score=f1_score(y_true, y_pred,average='macro')\n",
    "        return accuracy,precision,recall,f1score\n",
    "# Train the model\n",
    "score_all=[]\n",
    "total_step = len(train_loader)\n",
    "for model in [model_1,model_2,model_3]:\n",
    "# for model in [model_1]:\n",
    "    score_iter=[]\n",
    "\n",
    "    #model = NeuralNet(input_size, hidden_size, num_classes).to(device)\n",
    "    # Loss and optimizer\n",
    "    criterion = nn.CrossEntropyLoss()#LOSS FUNCTION , MSE\n",
    "    optimizer = torch.optim.Adam(model.parameters(), lr=learning_rate)\n",
    "    for epoch in range(num_epochs):\n",
    "        for i, (images, labels) in enumerate(train_loader):\n",
    "            # Move tensors to the configured device\n",
    "            images = images.to(device)\n",
    "            labels = labels.to(device)\n",
    "\n",
    "            # Forward pass\n",
    "            outputs = model(images)\n",
    "            loss = criterion(outputs, labels)\n",
    "            #Get accuracy\n",
    "            _, predicted = torch.max(outputs.data, 1)\n",
    "            # Backward and optimize\n",
    "            optimizer.zero_grad()\n",
    "            loss.backward()\n",
    "            optimizer.step()\n",
    "            \n",
    "            if (i + 1) % 100 == 0:\n",
    "                print('Epoch [{}/{}], Step [{}/{}], loss: {}'\n",
    "                    .format(epoch + 1, num_epochs, i + 1, total_step, loss.item()))\n",
    "            if (i + 1) % 10 == 0:\n",
    "                with torch.no_grad():\n",
    "                    labels_all = []\n",
    "                    predicted_all = []\n",
    "                    for images, labels in test_loader:\n",
    "                        images = images.to(device)\n",
    "                        labels = labels.to(device)\n",
    "                        outputs = model(images)\n",
    "                        _, predicted = torch.max(outputs.data, 1)\n",
    "                        labels=labels.cpu().numpy().flatten().tolist()\n",
    "                        predicted=predicted.cpu().numpy().flatten().tolist()\n",
    "                        labels_all=labels_all+labels\n",
    "                        predicted_all=predicted_all+predicted\n",
    "                    labels_all=np.array(labels_all).flatten()\n",
    "                    predicted_all=np.array(predicted_all).flatten()\n",
    "                    y_true=labels_all\n",
    "                    y_pred=predicted_all\n",
    "                    accuracy,precision,recall,f1score=get_score(y_true, y_pred)\n",
    "                    score_iter.append([loss.item(),accuracy,precision,recall,f1score])\n",
    "    score_all.append(score_iter)"
   ]
  },
  {
   "cell_type": "code",
   "execution_count": 16,
   "metadata": {},
   "outputs": [
    {
     "name": "stdout",
     "output_type": "stream",
     "text": [
      "(3, 28, 5)\n"
     ]
    }
   ],
   "source": [
    "score_all_array=np.array(score_all)\n",
    "print(score_all_array.shape)\n",
    "np.save(\"score_all_array_for_testDataSet\",score_all_array)# (4, 230, 5) 4 learning-rate value *   iterate * 5 metrice"
   ]
  },
  {
   "cell_type": "code",
   "execution_count": 18,
   "metadata": {},
   "outputs": [
    {
     "name": "stdout",
     "output_type": "stream",
     "text": [
      "(5, 3, 28)\n"
     ]
    }
   ],
   "source": [
    "# score_all_array1=score_all_array.transpose(2,2,1)\n",
    "score_all_array1=score_all_array.transpose(2,0,1)\n",
    "print(score_all_array1.shape)"
   ]
  },
  {
   "cell_type": "code",
   "execution_count": 19,
   "metadata": {},
   "outputs": [
    {
     "data": {
      "image/png": "[encoded data removed]",
      "text/plain": [
       "<Figure size 1080x720 with 4 Axes>"
      ]
     },
     "metadata": {
      "needs_background": "light"
     },
     "output_type": "display_data"
    }
   ],
   "source": [
    "import matplotlib.pyplot as plt\n",
    "import seaborn as sns\n",
    "%matplotlib inline\n",
    "\n",
    "fig, axs = plt.subplots(2 ,2 ,figsize = (15, 10))\n",
    "plot_array=score_all_array1[1]\n",
    "axs[0][0].plot(plot_array.T[:,0],'y',label='model_1')\n",
    "axs[0][0].plot(plot_array.T[:,1],'c',label='model_2')\n",
    "axs[0][0].plot(plot_array.T[:,2],'m',label='model_3')\n",
    "# axs[0][0].plot(plot_array.T[:,3],'k',label='model_4')\n",
    "axs[0][0].set_xlabel('iter')\n",
    "axs[0][0].set_ylabel('accuracy')\n",
    "#axs[0].grid(True)\n",
    "axs[0][0].legend(fontsize=8)\n",
    "\n",
    "plot_array=score_all_array1[2]\n",
    "axs[0][1].plot(plot_array.T[:,0],'y',label='model_1')\n",
    "axs[0][1].plot(plot_array.T[:,1],'c',label='model_2')\n",
    "axs[0][1].plot(plot_array.T[:,2],'m',label='model_3')\n",
    "# axs[0][1].plot(plot_array.T[:,3],'k',label='model_4')\n",
    "axs[0][1].set_xlabel('iter')\n",
    "axs[0][1].set_ylabel('precition')\n",
    "#axs[0].grid(True)\n",
    "axs[0][1].legend(fontsize=8)\n",
    "\n",
    "plot_array=score_all_array1[3]\n",
    "axs[1][0].plot(plot_array.T[:,0],'y',label='model_1')\n",
    "axs[1][0].plot(plot_array.T[:,1],'c',label='model_2')\n",
    "axs[1][0].plot(plot_array.T[:,2],'m',label='model_3')\n",
    "# axs[1][0].plot(plot_array.T[:,3],'k',label='model_4')\n",
    "axs[1][0].set_xlabel('iter')\n",
    "axs[1][0].set_ylabel('recall')\n",
    "#axs[0].grid(True)\n",
    "axs[1][0].legend(fontsize=8)\n",
    "\n",
    "# plot_array=score_all_array1[4]\n",
    "# axs[1][1].plot(plot_array.T[:,0],'y',label='model_1')\n",
    "# axs[1][1].plot(plot_array.T[:,1],'c',label='model_2')\n",
    "# axs[1][1].plot(plot_array.T[:,2],'m',label='model_3')\n",
    "# axs[1][1].plot(plot_array.T[:,3],'k',label='model_4')\n",
    "# axs[1][1].set_xlabel('iter')\n",
    "# axs[1][1].set_ylabel('f1 score')\n",
    "# #axs[0].grid(True)\n",
    "# axs[1][1].legend(fontsize=8)\n",
    "\n",
    "\n",
    "\n",
    "plt.show()"
   ]
  },
  {
   "cell_type": "code",
   "execution_count": 15,
   "metadata": {},
   "outputs": [
    {
     "data": {
      "text/plain": [
       "<Figure size 432x288 with 0 Axes>"
      ]
     },
     "metadata": {},
     "output_type": "display_data"
    }
   ],
   "source": [
    "plt.savefig(\"Mnist_compare_4_model.pdf\",dpi=300)"
   ]
  },
  {
   "cell_type": "code",
   "execution_count": 35,
   "metadata": {},
   "outputs": [
    {
     "name": "stdout",
     "output_type": "stream",
     "text": [
      "(4, 20, 5)\n"
     ]
    }
   ],
   "source": [
    "score_all_array2=score_all_array[:,210:,:]\n",
    "print(score_all_array2.shape)"
   ]
  },
  {
   "cell_type": "code",
   "execution_count": 36,
   "metadata": {},
   "outputs": [
    {
     "name": "stdout",
     "output_type": "stream",
     "text": [
      "98.07+0.06  98.07+0.06  98.05+0.07  98.06+0.06\n",
      "98.10+0.07  98.10+0.07  98.09+0.07  98.09+0.07\n",
      "97.88+0.17  97.88+0.16  97.86+0.16  97.86+0.17\n",
      "97.03+0.16  97.01+0.16  97.00+0.16  97.00+0.16\n"
     ]
    }
   ],
   "source": [
    "def print_s(mean,std):\n",
    "    print(\"{:.2f}+{:.2f}  {:.2f}+{:.2f}  {:.2f}+{:.2f}  {:.2f}+{:.2f}\".format(mean[1],std[1],mean[2],std[2],mean[3],std[3],mean[4],std[4]))\n",
    "\n",
    "result=score_all_array2[0]\n",
    "mean = np.mean(result,0)*100\n",
    "std=np.std(result,0)*100\n",
    "print_s(mean,std)\n",
    "\n",
    "result=score_all_array2[1]\n",
    "mean = np.mean(result,0)*100\n",
    "std=np.std(result,0)*100\n",
    "print_s(mean,std)\n",
    "\n",
    "result=score_all_array2[2]\n",
    "mean = np.mean(result,0)*100\n",
    "std=np.std(result,0)*100\n",
    "print_s(mean,std)\n",
    "\n",
    "result=score_all_array2[3]\n",
    "mean = np.mean(result,0)*100\n",
    "std=np.std(result,0)*100\n",
    "print_s(mean,std)\n",
    "                                                                              "
   ]
  },
  {
   "cell_type": "code",
   "execution_count": null,
   "metadata": {},
   "outputs": [],
   "source": []
  }
 ],
 "metadata": {
  "kernelspec": {
   "display_name": "Python 3",
   "language": "python",
   "name": "python3"
  },
  "language_info": {
   "codemirror_mode": {
    "name": "ipython",
    "version": 3
   },
   "file_extension": ".py",
   "mimetype": "text/x-python",
   "name": "python",
   "nbconvert_exporter": "python",
   "pygments_lexer": "ipython3",
   "version": "3.8.3"
  }
 },
 "nbformat": 4,
 "nbformat_minor": 2
}
